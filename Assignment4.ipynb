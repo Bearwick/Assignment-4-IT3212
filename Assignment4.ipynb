{
 "cells": [
  {
   "cell_type": "markdown",
   "metadata": {},
   "source": [
    "# Assignment 4: Deep learning and unsupervised learning\n",
    "For this assignment you are allowed to use data augmentation"
   ]
  },
  {
   "cell_type": "markdown",
   "metadata": {},
   "source": [
    "# Task 1\n",
    "Pick any image based dataset from the list, implement the preprocessing and justify the preprocessing steps, extract features and justify the methods used, select features and justify the methods used. Some of this is done already in one of the previous assignments. You can reuse\n",
    "things.\n",
    "\n",
    "- [] Implement (using the selected features) one basic machine learning algorithm for classification and justify your choice 20 (without justification 10).\n",
    "\n",
    "- [] Implement (using the selected features) one advanced machine learning algorithm for classification and justify your choice 20 (without justification 10).\n",
    "\n",
    "- [] Implement a CNN with hyperparameter tuning (for this you can directly use the data after the preprocessing) (30)\n",
    "\n",
    "- [] Compare and Explain the results in terms of both the computation time and the performance of the classification algorithms. (30)"
   ]
  },
  {
   "cell_type": "code",
   "execution_count": null,
   "metadata": {},
   "outputs": [],
   "source": [
    "# Preprocessing, extract features, select features. (Can reause)"
   ]
  },
  {
   "cell_type": "code",
   "execution_count": null,
   "metadata": {},
   "outputs": [],
   "source": [
    "# Implement algorithm for classification"
   ]
  },
  {
   "cell_type": "code",
   "execution_count": null,
   "metadata": {},
   "outputs": [],
   "source": [
    "# Implement a CNN with hyperparameter tuning (use data directly after preprocessing)"
   ]
  },
  {
   "cell_type": "markdown",
   "metadata": {},
   "source": [
    "# Task 2\n",
    "Pick any dataset from the list, implement the preprocessing and justify the preprocessing steps, extract features and justify the methods used, select features and justify the methods used. Some of this is done already in one of the previous assignments. You can reuse things.\n",
    "\n",
    "Implement three clustering methods out of the following and justify your choices (30)\n",
    "\n",
    "- K-means\n",
    "- Hierarchical Clustering\n",
    "- Fuzzy-C-means\n",
    "- DBSCAN\n",
    "- Gaussian mixture models\n",
    "- Self-organizing maps\n",
    "\n",
    "Compare and Explain the results (30)."
   ]
  },
  {
   "cell_type": "code",
   "execution_count": null,
   "metadata": {},
   "outputs": [],
   "source": [
    "# Preprocessing, extract features, select features. (Can reuse)"
   ]
  },
  {
   "cell_type": "code",
   "execution_count": null,
   "metadata": {},
   "outputs": [],
   "source": [
    "# Implement cluster method 1"
   ]
  },
  {
   "cell_type": "code",
   "execution_count": null,
   "metadata": {},
   "outputs": [],
   "source": [
    "# Implement cluster method 2"
   ]
  },
  {
   "cell_type": "code",
   "execution_count": null,
   "metadata": {},
   "outputs": [],
   "source": [
    "# Implement cluster method 3"
   ]
  }
 ],
 "metadata": {
  "language_info": {
   "name": "python"
  }
 },
 "nbformat": 4,
 "nbformat_minor": 2
}
